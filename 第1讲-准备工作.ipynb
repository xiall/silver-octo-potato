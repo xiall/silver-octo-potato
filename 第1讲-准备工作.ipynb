{
 "cells": [
  {
   "cell_type": "markdown",
   "metadata": {},
   "source": [
    "<hr>\n",
    "# 第0讲-准备工作"
   ]
  },
  {
   "cell_type": "markdown",
   "metadata": {},
   "source": [
    "1. 课程目标\n",
    "2. 爬虫定义\n",
    "3. 工具对比\n",
    "4. 爬虫学习\n",
    "5. 开发环境与工具"
   ]
  },
  {
   "cell_type": "markdown",
   "metadata": {},
   "source": [
    "## 1.课程目标"
   ]
  },
  {
   "cell_type": "markdown",
   "metadata": {},
   "source": [
    "1. 不是Google，Baidu后台的爬虫（全网）\n",
    "2. 主要针对定点爬虫（获取研究、建模的数据）\n",
    "3. 爬虫的典型应用（文本挖掘）"
   ]
  },
  {
   "cell_type": "markdown",
   "metadata": {},
   "source": [
    "-----------"
   ]
  },
  {
   "cell_type": "markdown",
   "metadata": {},
   "source": [
    "tips：\n",
    "\n",
    "**技能背景**\n",
    "\n",
    "**关于学习爬虫的动机？**\n",
    "\n",
    "爬虫工程师？数据分析师？研究者？**新闻工作者**？\n",
    "\n",
    "“懒惰是人类文明进步的真正动力”信仰者？"
   ]
  },
  {
   "cell_type": "markdown",
   "metadata": {},
   "source": [
    "----------------------"
   ]
  },
  {
   "cell_type": "markdown",
   "metadata": {},
   "source": [
    "## 2.爬虫定义"
   ]
  },
  {
   "cell_type": "markdown",
   "metadata": {},
   "source": [
    "**网络爬虫（又被称为网页蜘蛛，网络机器人，在FOAF社区中间，更经常的称为网页追逐者），是一种按照一定的规则，自动地抓取万维网信息的程序或者脚本。\n",
    "另外一些不常使用的名字还有蚂蚁、自动索引、模拟程序或者蠕虫**\n",
    "\n",
    "*（from 百度百科）*"
   ]
  },
  {
   "cell_type": "markdown",
   "metadata": {},
   "source": [
    "> **自动**、**批量**下载特定数据的程序"
   ]
  },
  {
   "cell_type": "markdown",
   "metadata": {},
   "source": [
    "关于爬虫的用途："
   ]
  },
  {
   "cell_type": "markdown",
   "metadata": {},
   "source": [
    "## 3.工具对比\n"
   ]
  },
  {
   "cell_type": "markdown",
   "metadata": {},
   "source": [
    "工具：（八爪鱼、集搜客GooSeeker） vs. 程序：（Python、Java、JavaScript(Node), PHP）"
   ]
  },
  {
   "cell_type": "markdown",
   "metadata": {},
   "source": [
    "tips:\n",
    "\n",
    "由于大部分爬虫是从网页爬取数据，而JavaScript目前在web上大量的使用，又在异步编程上的特点，所以基于JavaScript的定向爬虫越来越受到欢迎。"
   ]
  },
  {
   "cell_type": "markdown",
   "metadata": {},
   "source": [
    "### 特点：\n",
    "- ~~可再现性~~\n",
    "- 自动化\n",
    "- 便于沟通\n",
    "- 高度定制\n",
    "- 性能优化"
   ]
  },
  {
   "cell_type": "markdown",
   "metadata": {},
   "source": [
    "## 4.爬虫学习"
   ]
  },
  {
   "cell_type": "markdown",
   "metadata": {},
   "source": [
    "1. 入门容易\n",
    "2. 进阶有难度\n",
    "3. 涉及知识广\n",
    "4. 想象力\n",
    "5. 乐趣\n",
    "6. 其它业务的支撑"
   ]
  },
  {
   "cell_type": "markdown",
   "metadata": {},
   "source": [
    "爬虫技能：\n",
    "\n",
    "--------------------------------\n",
    "                                    |      |\n",
    "                                    |      |\n",
    "                                    |\n",
    "                                    |"
   ]
  },
  {
   "cell_type": "markdown",
   "metadata": {},
   "source": [
    "## 5.开发环境与工具"
   ]
  },
  {
   "cell_type": "markdown",
   "metadata": {},
   "source": [
    "### 开发环境："
   ]
  },
  {
   "cell_type": "markdown",
   "metadata": {},
   "source": [
    "Windows 7 + Anaconda 4.x(Python 3.x)"
   ]
  },
  {
   "cell_type": "markdown",
   "metadata": {},
   "source": [
    "关于环境的重要性的啰嗦（初学者）\n",
    "- 其实无所谓Anaconda版本"
   ]
  },
  {
   "cell_type": "markdown",
   "metadata": {},
   "source": [
    "### 工具："
   ]
  },
  {
   "cell_type": "markdown",
   "metadata": {},
   "source": [
    "1. conda包管理工具（包含在Anaconda里）\n",
    "2. MySQL 数据库管理系统\n",
    "3. MongoDB 数据库管理系统\n",
    "4. ~~Redis 数据库~~\n",
    "5. Valentina Studio 数据库管理系统客户端\n",
    "6. Robomongo MongoDB 图形化管理工具\n",
    "7. PyCharm IDE\n",
    "8. Sublime Text 编辑器\n",
    "9. Chrome浏览器（及其相关插件）"
   ]
  },
  {
   "cell_type": "markdown",
   "metadata": {},
   "source": [
    "- 关于Linux和Mac"
   ]
  },
  {
   "cell_type": "markdown",
   "metadata": {},
   "source": [
    "### 关于conda的一点说明(demo)："
   ]
  },
  {
   "cell_type": "markdown",
   "metadata": {},
   "source": [
    "1. 虚拟环境管理工具\n",
    "2. 包管理工具"
   ]
  },
  {
   "cell_type": "markdown",
   "metadata": {},
   "source": [
    "<hr>\n",
    "1.虚拟环境管理工具\n",
    "\n",
    "**注意：课件中的很多内容是为全平台（windows，mac，linux）服务的，特别是以文字形式给出的内容；所以并不是所有的命令都需要执行，在阅读的过程中请注意**\n",
    "\n",
    "注意：请将conda放在PATH里\n",
    "\n",
    "C:\\Users\\Admin\\Anaconda3\\Scripts\n",
    "\n",
    "export PATH=\"/xxx/anaconda/bin:$PATH\"\n",
    "\n",
    "C:\\Users\\Admin\\Anaconda2\\envs"
   ]
  },
  {
   "cell_type": "code",
   "execution_count": 5,
   "metadata": {
    "collapsed": true
   },
   "outputs": [],
   "source": [
    "# conda create -n env_name python=2.7\n",
    "# conda env list\n",
    "# conda env remove -n env_name\n",
    "# conda create -n env_name python=3 numpy scipy\n",
    "# activate env_name\n",
    "# deactivate env_name\n",
    "# conda list\n",
    "# conda install numpy\n",
    "# conda remove numpy\n",
    "# conda update numpy\n",
    "# conda search xxx"
   ]
  },
  {
   "cell_type": "code",
   "execution_count": 6,
   "metadata": {
    "collapsed": true
   },
   "outputs": [],
   "source": [
    "#速度问题的解决方式：\n",
    "\n",
    "#1. 添加源：\n",
    "#conda config --add channels 'https://mirrors.tuna.tsinghua.edu.cn/anaconda/pkgs/free/'\n",
    "#2. 显示URL\n",
    "#conda config --set show_channel_urls yes\n",
    "#3. 补救\n",
    "#.condarc\n",
    "#channels:\n",
    "#  - https://mirrors.tuna.tsinghua.edu.cn/anaconda/pkgs/free/\n",
    "#  - defaults\n",
    "#show_channel_urls: true\n",
    "#空格不能少，yaml格式"
   ]
  },
  {
   "cell_type": "markdown",
   "metadata": {},
   "source": [
    "tips：\n",
    "\n",
    "在管理conda下的python包时，请注意是由conda安装的，还是pip安装的，\n",
    "\n",
    "这一点在更新，卸载时需要分清包的来源"
   ]
  },
  {
   "cell_type": "markdown",
   "metadata": {},
   "source": [
    "<hr>\n",
    "2.包管理工具\n",
    "\n",
    "conda专注data science，有的包没有，比如selenium\n",
    "\n",
    "注意：conda不只是python的包管理工具\n",
    "\n",
    "python的包管理工具不止conda,比如pip\n",
    "\n",
    "$conda install xxx\n",
    "\n",
    "$pip install xxx"
   ]
  },
  {
   "cell_type": "markdown",
   "metadata": {
    "collapsed": true
   },
   "source": [
    "- 其实还是有很多坑（e.g.各种需要编译的情况）\n",
    "\n",
    "http://www.lfd.uci.edu/~gohlke/pythonlibs/"
   ]
  },
  {
   "cell_type": "markdown",
   "metadata": {},
   "source": [
    "--------------------"
   ]
  },
  {
   "cell_type": "markdown",
   "metadata": {
    "collapsed": true
   },
   "source": [
    "- 爬虫的学习建议"
   ]
  },
  {
   "cell_type": "markdown",
   "metadata": {},
   "source": [
    "1. 编程技能（包含各类库）\n",
    "2. 网络知识（特别是HTTP协议）\n",
    "3. 关键是：多爬（爬虫这个技能的特殊性，比如对抗性？）\n"
   ]
  },
  {
   "cell_type": "markdown",
   "metadata": {},
   "source": [
    "- 如果遇到具体的问题，如何在网络上获取信息？"
   ]
  },
  {
   "cell_type": "markdown",
   "metadata": {},
   "source": [
    "通用类：\n",
    "\n",
    "-  google， baidu， bing 搜索引擎等\n",
    "\n",
    "特定问答：\n",
    "\n",
    "- stackoverflow等  segmentdefault\n",
    "\n",
    "其它有用的工具：\n",
    "\n",
    "- Git and GitHub（借力）等"
   ]
  },
  {
   "cell_type": "markdown",
   "metadata": {
    "collapsed": true
   },
   "source": [
    "tips：\n",
    "\n",
    "一般建议在进行一个新的项目（比如一个实际项目，或者一个新的学习内容，或者一个新的包的相关测试）时，新建一个虚拟环境，在该环境中安装新的包，进行测试，开发。便于调试，定位错误等"
   ]
  }
 ],
 "metadata": {
  "kernelspec": {
   "display_name": "Python 3",
   "language": "python",
   "name": "python3"
  },
  "language_info": {
   "codemirror_mode": {
    "name": "ipython",
    "version": 3
   },
   "file_extension": ".py",
   "mimetype": "text/x-python",
   "name": "python",
   "nbconvert_exporter": "python",
   "pygments_lexer": "ipython3",
   "version": "3.6.1"
  }
 },
 "nbformat": 4,
 "nbformat_minor": 2
}
